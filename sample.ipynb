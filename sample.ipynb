{
 "cells": [
  {
   "metadata": {},
   "cell_type": "markdown",
   "source": [
    "## Data Loading and Preprocessing\n",
    " Load the Iris dataset, separate the species labels, drop unnecessary columns, and standardize the features.\n"
   ],
   "id": "e45eb0f673a0c3c8"
  },
  {
   "metadata": {
    "ExecuteTime": {
     "end_time": "2025-06-07T07:55:01.149299Z",
     "start_time": "2025-06-07T07:55:01.140380Z"
    }
   },
   "cell_type": "code",
   "source": [
    "import numpy as np\n",
    "import pandas as pd\n",
    "import matplotlib.pyplot as plt\n",
    "from mpl_toolkits.mplot3d import Axes3D\n",
    "from collections import Counter\n",
    "\n",
    "# Load data\n",
    "df = pd.read_csv('Iris Dataset.csv')\n",
    "species_labels = df['Species'].copy()\n",
    "data = df.drop(['Id', 'Species'], axis=1)\n",
    "\n",
    "# Standardize the data\n",
    "def standardize(data):\n",
    "    mean = np.mean(data, axis=0)\n",
    "    std = np.std(data, axis=0)\n",
    "    return (data - mean) / std\n",
    "\n",
    "X = data.values\n",
    "X_std = standardize(X)"
   ],
   "id": "cbd7e2edee9ae315",
   "outputs": [],
   "execution_count": 21
  },
  {
   "metadata": {
    "ExecuteTime": {
     "end_time": "2025-06-07T07:55:01.178431Z",
     "start_time": "2025-06-07T07:55:01.176169Z"
    }
   },
   "cell_type": "code",
   "source": "",
   "id": "d365f9fe3e3a0ddb",
   "outputs": [],
   "execution_count": null
  }
 ],
 "metadata": {
  "kernelspec": {
   "display_name": "Python 3",
   "language": "python",
   "name": "python3"
  },
  "language_info": {
   "codemirror_mode": {
    "name": "ipython",
    "version": 2
   },
   "file_extension": ".py",
   "mimetype": "text/x-python",
   "name": "python",
   "nbconvert_exporter": "python",
   "pygments_lexer": "ipython2",
   "version": "2.7.6"
  }
 },
 "nbformat": 4,
 "nbformat_minor": 5
}
