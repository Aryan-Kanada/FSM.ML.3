{
 "cells": [
  {
   "metadata": {},
   "cell_type": "markdown",
   "source": [
    "## Data Loading and Preprocessing\n",
    " Load the Iris dataset, separate the species labels, drop unnecessary columns, and standardize the features.\n"
   ],
   "id": "e45eb0f673a0c3c8"
  },
  {
   "metadata": {
    "ExecuteTime": {
     "end_time": "2025-06-07T07:55:01.149299Z",
     "start_time": "2025-06-07T07:55:01.140380Z"
    }
   },
   "cell_type": "code",
   "source": [
    "import numpy as np\n",
    "import pandas as pd\n",
    "import matplotlib.pyplot as plt\n",
    "from mpl_toolkits.mplot3d import Axes3D\n",
    "from collections import Counter\n",
    "\n",
    "# Load data\n",
    "df = pd.read_csv('Iris Dataset.csv')\n",
    "species_labels = df['Species'].copy()\n",
    "data = df.drop(['Id', 'Species'], axis=1)\n",
    "\n",
    "# Standardize the data\n",
    "def standardize(data):\n",
    "    mean = np.mean(data, axis=0)\n",
    "    std = np.std(data, axis=0)\n",
    "    return (data - mean) / std\n",
    "\n",
    "X = data.values\n",
    "X_std = standardize(X)"
   ],
   "id": "cbd7e2edee9ae315",
   "outputs": [],
   "execution_count": 21
  },
  {
   "metadata": {},
   "cell_type": "markdown",
   "source": [
    "## Principal Component Analysis\n",
    " Perform PCA to reduce the dataset to 3 dimensions and analyze the variance explained by each principal component.\n"
   ],
   "id": "6ef8fb4813df01d5"
  },
  {
   "metadata": {
    "ExecuteTime": {
     "end_time": "2025-06-07T07:56:56.235283Z",
     "start_time": "2025-06-07T07:56:56.223604Z"
    }
   },
   "cell_type": "code",
   "source": [
    "def pca(X, n_components=3):\n",
    "    cov_matrix = np.cov(X.T)\n",
    "    eigenvalues, eigenvectors = np.linalg.eig(cov_matrix)\n",
    "    sorted_idx = np.argsort(eigenvalues)[::-1]\n",
    "    eigenvalues = eigenvalues[sorted_idx]\n",
    "    eigenvectors = eigenvectors[:, sorted_idx]\n",
    "    principal_components = eigenvectors[:, :n_components]\n",
    "    X_pca = np.dot(X, principal_components)\n",
    "    return X_pca, eigenvalues, principal_components\n",
    "\n",
    "X_pca, eigenvalues, pcs = pca(X_std)\n",
    "variance_explained = eigenvalues / np.sum(eigenvalues) * 100"
   ],
   "id": "eb36357477505eac",
   "outputs": [],
   "execution_count": 23
  },
  {
   "metadata": {},
   "cell_type": "code",
   "outputs": [],
   "execution_count": null,
   "source": "",
   "id": "a511cd7f2b9e461"
  }
 ],
 "metadata": {
  "kernelspec": {
   "display_name": "Python 3",
   "language": "python",
   "name": "python3"
  },
  "language_info": {
   "codemirror_mode": {
    "name": "ipython",
    "version": 2
   },
   "file_extension": ".py",
   "mimetype": "text/x-python",
   "name": "python",
   "nbconvert_exporter": "python",
   "pygments_lexer": "ipython2",
   "version": "2.7.6"
  }
 },
 "nbformat": 4,
 "nbformat_minor": 5
}
